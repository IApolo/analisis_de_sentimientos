{
 "cells": [
  {
   "cell_type": "markdown",
   "metadata": {},
   "source": [
    "### Importación de Librerías"
   ]
  },
  {
   "cell_type": "code",
   "execution_count": 5,
   "metadata": {},
   "outputs": [
    {
     "name": "stderr",
     "output_type": "stream",
     "text": [
      "[nltk_data] Downloading package stopwords to C:\\Users\\Hermes\n",
      "[nltk_data]     AI\\AppData\\Roaming\\nltk_data...\n",
      "[nltk_data]   Package stopwords is already up-to-date!\n"
     ]
    }
   ],
   "source": [
    "# Importar librerías necesarias\n",
    "import pandas as pd\n",
    "import matplotlib.pyplot as plt\n",
    "from collections import Counter\n",
    "from itertools import chain\n",
    "from nltk.corpus import stopwords\n",
    "import nltk\n",
    "\n",
    "# Descargar stopwords si no lo has hecho antes\n",
    "nltk.download(\"stopwords\")\n",
    "\n",
    "# Crear conjunto de stopwords\n",
    "stop_words = set(stopwords.words(\"english\"))\n"
   ]
  },
  {
   "cell_type": "markdown",
   "metadata": {},
   "source": [
    "### Carga y procesamiento del archivo de reseñas"
   ]
  },
  {
   "cell_type": "code",
   "execution_count": 6,
   "metadata": {},
   "outputs": [
    {
     "name": "stdout",
     "output_type": "stream",
     "text": [
      "Total de reseñas procesadas: 9252\n",
      "  review unique_id        asin  \\\n",
      "0             2179  B000AN11UA   \n",
      "1             2180  B000AN11UA   \n",
      "2            60408  B000B5S85I   \n",
      "3            60412  B000B5S85I   \n",
      "4            81347  B00007LBZR   \n",
      "\n",
      "                                        product_name product_type   helpful  \\\n",
      "0  Incase Limited Edition iPod Case - \"Fleur\" Sig...      apparel    3 of 3   \n",
      "1  Incase Limited Edition iPod Case - \"Fleur\" Sig...      apparel    3 of 5   \n",
      "2  Vintage Fatigue Style Cap (with or without Sta...      apparel    0 of 1   \n",
      "3  Vintage Fatigue Style Cap (with or without Sta...      apparel   3 of 12   \n",
      "4        Mens Collar Stays for Dress Shirts: Apparel      apparel  19 of 21   \n",
      "\n",
      "  rating                         title              date  \\\n",
      "0    1.0                  disappointed    March 10, 2006   \n",
      "1    1.0    Cute But Way Disappointing  January 13, 2006   \n",
      "2    2.0             Camo Fatigue hat.  November 3, 2006   \n",
      "3    1.0  What's next?  The swastika??     July 30, 2006   \n",
      "4    1.0                  Buyer Beware    April 20, 2005   \n",
      "\n",
      "                          reviewer      reviewer_location  \\\n",
      "0               C. Tina \"Ctina401\"             Woonsocket   \n",
      "1             Katherine M. Perkins       Pasadena, CA USA   \n",
      "2  Virgie L. Olson-jochum \"Virgie\"           Racine ,Wi..   \n",
      "3     The Dutchman \"Dutch Schultz\"              Cleveland   \n",
      "4                David S. Schwartz  Long Island, New York   \n",
      "\n",
      "                                         review_text  \n",
      "0  I want to start by saying Fred Flare- shipped ...  \n",
      "1  I have to say that I was disappointed when I o...  \n",
      "2  I am sorry but I did not like it nor will I we...  \n",
      "3  A red star!?!?  I bet this won't sell well in ...  \n",
      "4  Perhaps it is my own fault for not reading mor...  \n"
     ]
    }
   ],
   "source": [
    "# Ruta al archivo\n",
    "file_path = r\"C:\\AI Exclusive\\portfolio_final\\datasets\\multidomain_sentiments\\unprocessed\\sorted_data\\apparel\\all.review\"\n",
    "\n",
    "# Función para procesar el archivo\n",
    "def process_review_file(file_path):\n",
    "    with open(file_path, \"r\", encoding=\"latin-1\") as f:\n",
    "        lines = f.readlines()\n",
    "\n",
    "    reviews = []  # Lista para almacenar las reseñas\n",
    "\n",
    "    current_review = {}\n",
    "    tag = None\n",
    "\n",
    "    for line in lines:\n",
    "        line = line.strip()\n",
    "\n",
    "        # Detectar apertura de una etiqueta\n",
    "        if line.startswith(\"<\") and not line.startswith(\"</\"):\n",
    "            tag = line[1:-1]  # Extraer el nombre de la etiqueta\n",
    "            current_review[tag] = \"\"\n",
    "        elif line.startswith(\"</\"):\n",
    "            tag = line[2:-1]  # Etiqueta de cierre\n",
    "            if tag == \"review\":  # Fin de una reseña\n",
    "                reviews.append(current_review)\n",
    "                current_review = {}\n",
    "        else:\n",
    "            # Agregar contenido dentro de la etiqueta\n",
    "            if tag:\n",
    "                current_review[tag] += line\n",
    "\n",
    "    return pd.DataFrame(reviews)\n",
    "\n",
    "# Cargar el archivo si no existe df\n",
    "if 'df' not in globals():\n",
    "    df = process_review_file(file_path)\n",
    "\n",
    "# Inspeccionar las primeras filas\n",
    "print(f\"Total de reseñas procesadas: {len(df)}\")\n",
    "print(df.head())\n"
   ]
  },
  {
   "cell_type": "markdown",
   "metadata": {},
   "source": [
    "### Asegurar columnas clave"
   ]
  },
  {
   "cell_type": "code",
   "execution_count": 7,
   "metadata": {},
   "outputs": [
    {
     "name": "stdout",
     "output_type": "stream",
     "text": [
      "                                      processed_text sentiment\n",
      "0  I want to start by saying Fred Flare- shipped ...  negativo\n",
      "1  I have to say that I was disappointed when I o...  negativo\n",
      "2  I am sorry but I did not like it nor will I we...  negativo\n",
      "3  A red star!?!?  I bet this won't sell well in ...  negativo\n",
      "4  Perhaps it is my own fault for not reading mor...  negativo\n"
     ]
    }
   ],
   "source": [
    "# Asegurar que las columnas necesarias existen\n",
    "if 'processed_text' not in df.columns:\n",
    "    df['processed_text'] = df['review_text']\n",
    "\n",
    "if 'sentiment' not in df.columns:\n",
    "    def classify_sentiment(rating):\n",
    "        if float(rating) >= 4.0:\n",
    "            return \"positivo\"\n",
    "        elif float(rating) <= 2.0:\n",
    "            return \"negativo\"\n",
    "        else:\n",
    "            return \"neutral\"\n",
    "\n",
    "    df['sentiment'] = df['rating'].apply(classify_sentiment)\n",
    "\n",
    "# Inspeccionar las columnas actualizadas\n",
    "print(df[['processed_text', 'sentiment']].head())\n"
   ]
  },
  {
   "cell_type": "markdown",
   "metadata": {},
   "source": [
    "### Crear DataFrame limpio"
   ]
  },
  {
   "cell_type": "code",
   "execution_count": 8,
   "metadata": {},
   "outputs": [
    {
     "name": "stdout",
     "output_type": "stream",
     "text": [
      "                                      processed_text sentiment\n",
      "0  I want to start by saying Fred Flare- shipped ...  negativo\n",
      "1  I have to say that I was disappointed when I o...  negativo\n",
      "2  I am sorry but I did not like it nor will I we...  negativo\n",
      "3  A red star!?!?  I bet this won't sell well in ...  negativo\n",
      "4  Perhaps it is my own fault for not reading mor...  negativo\n"
     ]
    }
   ],
   "source": [
    "# Crear un DataFrame limpio\n",
    "if 'df_cleaned' not in globals():\n",
    "    df_cleaned = df[[\"processed_text\", \"sentiment\"]].copy()\n",
    "\n",
    "# Inspeccionar las primeras filas del DataFrame limpio\n",
    "print(df_cleaned.head())\n"
   ]
  },
  {
   "cell_type": "markdown",
   "metadata": {},
   "source": [
    "###  Eliminar stopwords"
   ]
  },
  {
   "cell_type": "code",
   "execution_count": 9,
   "metadata": {},
   "outputs": [
    {
     "name": "stdout",
     "output_type": "stream",
     "text": [
      "                                      processed_text sentiment\n",
      "0  I want start saying Fred Flare- shipped produc...  negativo\n",
      "1  I say I disappointed I opened package containi...  negativo\n",
      "2  I sorry I like I wear big & looks funny me. I ...  negativo\n",
      "3     A red star!?!? I bet sell well eastern Europe.  negativo\n",
      "4  Perhaps fault reading closely, failing questio...  negativo\n"
     ]
    }
   ],
   "source": [
    "# Función para eliminar stopwords\n",
    "def remove_stopwords(text):\n",
    "    return \" \".join([word for word in text.split() if word not in stop_words])\n",
    "\n",
    "# Aplicar eliminación de stopwords\n",
    "df_cleaned[\"processed_text\"] = df_cleaned[\"processed_text\"].apply(remove_stopwords)\n",
    "\n",
    "# Inspeccionar los datos procesados\n",
    "print(df_cleaned.head())"
   ]
  },
  {
   "cell_type": "markdown",
   "metadata": {},
   "source": [
    "###  Visualización de distribución de sentimientos"
   ]
  },
  {
   "cell_type": "code",
   "execution_count": 10,
   "metadata": {},
   "outputs": [
    {
     "data": {
      "image/png": "[encoded data removed]",
      "text/plain": [
       "<Figure size 640x480 with 1 Axes>"
      ]
     },
     "metadata": {},
     "output_type": "display_data"
    }
   ],
   "source": [
    "# Visualización de distribución de sentimientos\n",
    "df_cleaned[\"sentiment\"].value_counts().plot(kind=\"bar\", color=[\"green\", \"red\", \"orange\"])\n",
    "plt.title(\"Distribución de Sentimientos\")\n",
    "plt.xlabel(\"Sentimiento\")\n",
    "plt.ylabel(\"Cantidad de Reseñas\")\n",
    "plt.show()\n"
   ]
  },
  {
   "cell_type": "markdown",
   "metadata": {},
   "source": [
    "### Análisis de frecuencia de palabras"
   ]
  },
  {
   "cell_type": "code",
   "execution_count": 11,
   "metadata": {},
   "outputs": [
    {
     "name": "stdout",
     "output_type": "stream",
     "text": [
      "Palabras más comunes: [('I', 17868), ('The', 3512), ('like', 2064), ('They', 1873), ('great', 1809), ('wear', 1679), ('This', 1618), ('would', 1611), ('It', 1607), ('shoes', 1604)]\n"
     ]
    }
   ],
   "source": [
    "# Análisis de frecuencia de palabras\n",
    "all_words = chain.from_iterable(df_cleaned[\"processed_text\"].str.split())\n",
    "word_counts = Counter(all_words)\n",
    "common_words = word_counts.most_common(10)\n",
    "\n",
    "# Mostrar las palabras más comunes\n",
    "print(\"Palabras más comunes:\", common_words)\n"
   ]
  },
  {
   "cell_type": "markdown",
   "metadata": {},
   "source": [
    "##### Guardar Dataframe para futuros análisis"
   ]
  },
  {
   "cell_type": "code",
   "execution_count": 12,
   "metadata": {},
   "outputs": [],
   "source": [
    "import os\n",
    "\n",
    "# Nueva ruta simplificada\n",
    "output_dir = r\"C:\\AI Exclusive\\portfolio_final\\analisis_sentimientos_multidominio\\outputs\"\n",
    "\n",
    "# Guardar el archivo\n",
    "df_cleaned.to_csv(os.path.join(output_dir, \"cleaned_data.csv\"), index=False)"
   ]
  }
 ],
 "metadata": {
  "kernelspec": {
   "display_name": "Python 3",
   "language": "python",
   "name": "python3"
  },
  "language_info": {
   "codemirror_mode": {
    "name": "ipython",
    "version": 3
   },
   "file_extension": ".py",
   "mimetype": "text/x-python",
   "name": "python",
   "nbconvert_exporter": "python",
   "pygments_lexer": "ipython3",
   "version": "3.9.15"
  }
 },
 "nbformat": 4,
 "nbformat_minor": 2
}
